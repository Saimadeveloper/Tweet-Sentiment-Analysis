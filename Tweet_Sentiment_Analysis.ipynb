{
  "cells": [
    {
      "cell_type": "markdown",
      "metadata": {
        "id": "view-in-github",
        "colab_type": "text"
      },
      "source": [
        "<a href=\"https://colab.research.google.com/github/Saimadeveloper/Tweet-Sentiment-Analysis/blob/main/Tweet_Sentiment_Analysis.ipynb\" target=\"_parent\"><img src=\"https://colab.research.google.com/assets/colab-badge.svg\" alt=\"Open In Colab\"/></a>"
      ]
    },
    {
      "cell_type": "code",
      "execution_count": 2,
      "id": "e866bc7a-a77c-4843-874b-cbeb168770ba",
      "metadata": {
        "id": "e866bc7a-a77c-4843-874b-cbeb168770ba",
        "outputId": "0959547e-5e93-45cb-e940-ce27a3ab9010",
        "colab": {
          "base_uri": "https://localhost:8080/"
        }
      },
      "outputs": [
        {
          "output_type": "stream",
          "name": "stdout",
          "text": [
            "<class 'pandas.core.frame.DataFrame'>\n",
            "RangeIndex: 10000 entries, 0 to 9999\n",
            "Data columns (total 6 columns):\n",
            " #   Column                                                                                                               Non-Null Count  Dtype \n",
            "---  ------                                                                                                               --------------  ----- \n",
            " 0   0                                                                                                                    10000 non-null  int64 \n",
            " 1   1467810369                                                                                                           10000 non-null  int64 \n",
            " 2   Mon Apr 06 22:19:45 PDT 2009                                                                                         10000 non-null  object\n",
            " 3   NO_QUERY                                                                                                             10000 non-null  object\n",
            " 4   _TheSpecialOne_                                                                                                      10000 non-null  object\n",
            " 5   @switchfoot http://twitpic.com/2y1zl - Awww, that's a bummer.  You shoulda got David Carr of Third Day to do it. ;D  10000 non-null  object\n",
            "dtypes: int64(2), object(4)\n",
            "memory usage: 468.9+ KB\n",
            "None\n",
            "<class 'pandas.core.frame.DataFrame'>\n",
            "RangeIndex: 10000 entries, 0 to 9999\n",
            "Data columns (total 6 columns):\n",
            " #   Column                                                                                                               Non-Null Count  Dtype \n",
            "---  ------                                                                                                               --------------  ----- \n",
            " 0   0                                                                                                                    10000 non-null  int64 \n",
            " 1   1467810369                                                                                                           10000 non-null  int64 \n",
            " 2   Mon Apr 06 22:19:45 PDT 2009                                                                                         10000 non-null  object\n",
            " 3   NO_QUERY                                                                                                             10000 non-null  object\n",
            " 4   _TheSpecialOne_                                                                                                      10000 non-null  object\n",
            " 5   @switchfoot http://twitpic.com/2y1zl - Awww, that's a bummer.  You shoulda got David Carr of Third Day to do it. ;D  10000 non-null  object\n",
            "dtypes: int64(2), object(4)\n",
            "memory usage: 468.9+ KB\n",
            "None\n",
            "   0  1467810369  Mon Apr 06 22:19:45 PDT 2009  NO_QUERY _TheSpecialOne_  \\\n",
            "0  0  1467810672  Mon Apr 06 22:19:49 PDT 2009  NO_QUERY   scotthamilton   \n",
            "1  0  1467810917  Mon Apr 06 22:19:53 PDT 2009  NO_QUERY        mattycus   \n",
            "2  0  1467811184  Mon Apr 06 22:19:57 PDT 2009  NO_QUERY         ElleCTF   \n",
            "3  0  1467811193  Mon Apr 06 22:19:57 PDT 2009  NO_QUERY          Karoli   \n",
            "4  0  1467811372  Mon Apr 06 22:20:00 PDT 2009  NO_QUERY        joy_wolf   \n",
            "\n",
            "  @switchfoot http://twitpic.com/2y1zl - Awww, that's a bummer.  You shoulda got David Carr of Third Day to do it. ;D  \n",
            "0  is upset that he can't update his Facebook by ...                                                                   \n",
            "1  @Kenichan I dived many times for the ball. Man...                                                                   \n",
            "2    my whole body feels itchy and like its on fire                                                                    \n",
            "3  @nationwideclass no, it's not behaving at all....                                                                   \n",
            "4                      @Kwesidei not the whole crew                                                                    \n",
            "   0  1467810369  Mon Apr 06 22:19:45 PDT 2009  NO_QUERY _TheSpecialOne_  \\\n",
            "0  0  1467810672  Mon Apr 06 22:19:49 PDT 2009  NO_QUERY   scotthamilton   \n",
            "1  0  1467810917  Mon Apr 06 22:19:53 PDT 2009  NO_QUERY        mattycus   \n",
            "2  0  1467811184  Mon Apr 06 22:19:57 PDT 2009  NO_QUERY         ElleCTF   \n",
            "3  0  1467811193  Mon Apr 06 22:19:57 PDT 2009  NO_QUERY          Karoli   \n",
            "4  0  1467811372  Mon Apr 06 22:20:00 PDT 2009  NO_QUERY        joy_wolf   \n",
            "\n",
            "  @switchfoot http://twitpic.com/2y1zl - Awww, that's a bummer.  You shoulda got David Carr of Third Day to do it. ;D  \n",
            "0  is upset that he can't update his Facebook by ...                                                                   \n",
            "1  @Kenichan I dived many times for the ball. Man...                                                                   \n",
            "2    my whole body feels itchy and like its on fire                                                                    \n",
            "3  @nationwideclass no, it's not behaving at all....                                                                   \n",
            "4                      @Kwesidei not the whole crew                                                                    \n",
            "Index(['0', '1467810369', 'Mon Apr 06 22:19:45 PDT 2009', 'NO_QUERY',\n",
            "       '_TheSpecialOne_',\n",
            "       '@switchfoot http://twitpic.com/2y1zl - Awww, that's a bummer.  You shoulda got David Carr of Third Day to do it. ;D'],\n",
            "      dtype='object')\n"
          ]
        }
      ],
      "source": [
        "\n",
        "\n",
        "# Read the CSV file\n",
        "\n",
        "import pandas as pd\n",
        "\n",
        "df = pd.read_csv(\"Tweets Sentiment Analysis.csv\", nrows=10000, on_bad_lines=\"skip\")\n",
        "print(df.info())\n",
        "\n",
        "\n",
        "print(df.info())\n",
        "\n",
        "print(df.head())  # Display first 5 rows\n",
        "\n",
        "\n",
        "# Display the first few rows\n",
        "print(df.head())\n",
        "\n",
        "# Print column names\n",
        "print(df.columns)\n"
      ]
    },
    {
      "cell_type": "code",
      "execution_count": 3,
      "id": "ae3b47a3-33de-4bfd-9530-065f7f0648f3",
      "metadata": {
        "scrolled": true,
        "id": "ae3b47a3-33de-4bfd-9530-065f7f0648f3",
        "outputId": "6e704857-aabd-495d-ed3a-83f14d524fab",
        "colab": {
          "base_uri": "https://localhost:8080/"
        }
      },
      "outputs": [
        {
          "output_type": "stream",
          "name": "stdout",
          "text": [
            "Index(['0', '1467810369', 'Mon Apr 06 22:19:45 PDT 2009', 'NO_QUERY',\n",
            "       '_TheSpecialOne_',\n",
            "       '@switchfoot http://twitpic.com/2y1zl - Awww, that's a bummer.  You shoulda got David Carr of Third Day to do it. ;D'],\n",
            "      dtype='object')\n",
            "Column name is incorrect. Check the CSV file for the exact column name.\n"
          ]
        }
      ],
      "source": [
        "\n",
        "df.columns = df.columns.str.strip()  # Remove spaces\n",
        "\n",
        "# Print column names for verification\n",
        "print(df.columns)\n",
        "\n",
        "# Fix column name reference\n",
        "if 'Tweets Sentiment Analysis' in df.columns:\n",
        "    print(df['Tweets Sentiment Analysis'].value_counts())\n",
        "else:\n",
        "    print(\"Column name is incorrect. Check the CSV file for the exact column name.\")\n"
      ]
    },
    {
      "cell_type": "code",
      "execution_count": 4,
      "id": "0109fd0d-4707-4e9d-9a11-20298b2ac915",
      "metadata": {
        "id": "0109fd0d-4707-4e9d-9a11-20298b2ac915",
        "outputId": "3e09c972-a37f-4528-be17-4e9fc7a5db79",
        "colab": {
          "base_uri": "https://localhost:8080/"
        }
      },
      "outputs": [
        {
          "output_type": "stream",
          "name": "stdout",
          "text": [
            "Index(['0', '1467810369', 'Mon Apr 06 22:19:45 PDT 2009', 'NO_QUERY',\n",
            "       '_TheSpecialOne_',\n",
            "       '@switchfoot http://twitpic.com/2y1zl - Awww, that's a bummer.  You shoulda got David Carr of Third Day to do it. ;D'],\n",
            "      dtype='object')\n"
          ]
        }
      ],
      "source": [
        "#TF-IDF Vectorization\n",
        "print(df.columns)  # This will display all the column names\n"
      ]
    },
    {
      "cell_type": "code",
      "execution_count": 5,
      "id": "b156f04c-8661-4c03-8c2d-fee92140e229",
      "metadata": {
        "id": "b156f04c-8661-4c03-8c2d-fee92140e229",
        "outputId": "40f58ee3-08af-4c98-a071-39a8d5ff034b",
        "colab": {
          "base_uri": "https://localhost:8080/"
        }
      },
      "outputs": [
        {
          "output_type": "stream",
          "name": "stdout",
          "text": [
            "Index(['0', '1467810369', 'Mon Apr 06 22:19:45 PDT 2009', 'NO_QUERY',\n",
            "       '_TheSpecialOne_',\n",
            "       '@switchfoot http://twitpic.com/2y1zl - Awww, that's a bummer.  You shoulda got David Carr of Third Day to do it. ;D'],\n",
            "      dtype='object')\n"
          ]
        }
      ],
      "source": [
        "df.columns = df.columns.str.strip()  # Remove leading/trailing spaces\n",
        "print(df.columns)  # Verify the column names again\n"
      ]
    },
    {
      "cell_type": "code",
      "execution_count": 6,
      "id": "2de9f02c-380a-4757-acb0-731d1b13eafa",
      "metadata": {
        "id": "2de9f02c-380a-4757-acb0-731d1b13eafa"
      },
      "outputs": [],
      "source": [
        "for col in df.columns:\n",
        "    if 'tweet' in col.lower():  # Check for any column containing 'tweet'\n",
        "        print(f\"Found column: {col}\")\n"
      ]
    },
    {
      "cell_type": "code",
      "execution_count": 7,
      "id": "dcea990e-ac7c-43da-865c-a377d43705a8",
      "metadata": {
        "id": "dcea990e-ac7c-43da-865c-a377d43705a8",
        "outputId": "b9a66bb4-63c9-49d5-cfb1-2c384197ea31",
        "colab": {
          "base_uri": "https://localhost:8080/"
        }
      },
      "outputs": [
        {
          "output_type": "stream",
          "name": "stdout",
          "text": [
            "Index(['0', '1467810369', 'Mon Apr 06 22:19:45 PDT 2009', 'NO_QUERY',\n",
            "       '_TheSpecialOne_',\n",
            "       '@switchfoot http://twitpic.com/2y1zl - Awww, that's a bummer.  You shoulda got David Carr of Third Day to do it. ;D'],\n",
            "      dtype='object')\n"
          ]
        }
      ],
      "source": [
        "\n",
        "# Check column names to find the correct one\n",
        "print(df.columns)\n",
        "\n"
      ]
    },
    {
      "cell_type": "code",
      "execution_count": 8,
      "id": "2060745c-34c8-457e-bfa7-02040bcc4742",
      "metadata": {
        "colab": {
          "base_uri": "https://localhost:8080/",
          "height": 798
        },
        "id": "2060745c-34c8-457e-bfa7-02040bcc4742",
        "outputId": "27da4d2a-08ec-473d-e417-03174a34fa6b"
      },
      "outputs": [
        {
          "output_type": "display_data",
          "data": {
            "text/plain": [
              "<Figure size 1200x500 with 3 Axes>"
            ],
            "image/png": "[encoded data removed]"
          },
          "metadata": {}
        },
        {
          "output_type": "stream",
          "name": "stdout",
          "text": [
            "                                          text  KMeans_Cluster  \\\n",
            "0           I love this product! It's amazing!               0   \n",
            "1  This is the worst thing I have ever bought.               0   \n",
            "2      Absolutely fantastic! Highly recommend.               0   \n",
            "3      Not worth the money. Very disappointed.               0   \n",
            "4            Best purchase I've made recently!               0   \n",
            "5        Terrible quality, never buying again.               1   \n",
            "6        Super happy with this, great quality!               1   \n",
            "7            So bad, I regret purchasing this.               0   \n",
            "\n",
            "   DBSCAN_Cluster  Agglo_Cluster  \n",
            "0               0              0  \n",
            "1               0              0  \n",
            "2               0              0  \n",
            "3               0              0  \n",
            "4               0              0  \n",
            "5               0              0  \n",
            "6               0              0  \n",
            "7               0              1  \n"
          ]
        }
      ],
      "source": [
        "import pandas as pd\n",
        "import numpy as np\n",
        "import matplotlib.pyplot as plt\n",
        "import seaborn as sns\n",
        "from sklearn.feature_extraction.text import TfidfVectorizer\n",
        "from sklearn.cluster import KMeans, DBSCAN, AgglomerativeClustering\n",
        "from sklearn.decomposition import PCA\n",
        "\n",
        "# Sample dataset (Replace this with your own dataset)\n",
        "data = {\n",
        "    'text': [\n",
        "        \"I love this product! It's amazing!\",\n",
        "        \"This is the worst thing I have ever bought.\",\n",
        "        \"Absolutely fantastic! Highly recommend.\",\n",
        "        \"Not worth the money. Very disappointed.\",\n",
        "        \"Best purchase I've made recently!\",\n",
        "        \"Terrible quality, never buying again.\",\n",
        "        \"Super happy with this, great quality!\",\n",
        "        \"So bad, I regret purchasing this.\"\n",
        "    ]\n",
        "}\n",
        "\n",
        "df = pd.DataFrame(data)\n",
        "\n",
        "# 🔹 Step 1: Vectorize Text using TF-IDF\n",
        "vectorizer = TfidfVectorizer(stop_words='english')\n",
        "X = vectorizer.fit_transform(df['text'])\n",
        "\n",
        "# 🔹 Step 2: Apply Clustering Algorithms\n",
        "\n",
        "# K-Means Clustering\n",
        "kmeans = KMeans(n_clusters=2, random_state=42, n_init=10)\n",
        "df['KMeans_Cluster'] = kmeans.fit_predict(X)\n",
        "\n",
        "# DBSCAN Clustering\n",
        "dbscan = DBSCAN(eps=1.2, min_samples=2, metric='cosine')\n",
        "df['DBSCAN_Cluster'] = dbscan.fit_predict(X)\n",
        "\n",
        "# Agglomerative Clustering\n",
        "agglo = AgglomerativeClustering(n_clusters=2, metric='cosine', linkage='average')\n",
        "df['Agglo_Cluster'] = agglo.fit_predict(X.toarray())\n",
        "\n",
        "# 🔹 Step 3: Visualize Clusters using PCA (For 2D Plotting)\n",
        "pca = PCA(n_components=2)\n",
        "X_pca = pca.fit_transform(X.toarray())\n",
        "\n",
        "plt.figure(figsize=(12, 5))\n",
        "\n",
        "# Plot K-Means Clusters\n",
        "plt.subplot(1, 3, 1)\n",
        "sns.scatterplot(x=X_pca[:, 0], y=X_pca[:, 1], hue=df['KMeans_Cluster'], palette='viridis')\n",
        "plt.title('K-Means Clustering')\n",
        "\n",
        "# Plot DBSCAN Clusters\n",
        "plt.subplot(1, 3, 2)\n",
        "sns.scatterplot(x=X_pca[:, 0], y=X_pca[:, 1], hue=df['DBSCAN_Cluster'], palette='coolwarm')\n",
        "plt.title('DBSCAN Clustering')\n",
        "\n",
        "# Plot Agglomerative Clustering\n",
        "plt.subplot(1, 3, 3)\n",
        "sns.scatterplot(x=X_pca[:, 0], y=X_pca[:, 1], hue=df['Agglo_Cluster'], palette='Set2')\n",
        "plt.title('Agglomerative Clustering')\n",
        "\n",
        "plt.show()\n",
        "\n",
        "# Display Clusters\n",
        "print(df)\n",
        "\n"
      ]
    },
    {
      "cell_type": "code",
      "execution_count": 9,
      "id": "c307d8f6-51f5-4f94-b039-e0883d951cde",
      "metadata": {
        "colab": {
          "base_uri": "https://localhost:8080/"
        },
        "id": "c307d8f6-51f5-4f94-b039-e0883d951cde",
        "outputId": "df0ef65d-df39-4c2a-834d-e61c34242e4e"
      },
      "outputs": [
        {
          "output_type": "stream",
          "name": "stdout",
          "text": [
            "Topic 1:\n",
            "recommend buying errible purchasing bad regret bought worst thing quality\n",
            "\n",
            "\n",
            "Topic 2:\n",
            "thing bought worst quality buying errible amazing love product ts\n",
            "\n",
            "\n",
            "Topic 3:\n",
            "thing great happy uper ery ot money disappointed worth quality\n",
            "\n",
            "\n",
            "Topic 4:\n",
            "worst thing bad regret purchasing quality est recently purchase ve\n",
            "\n",
            "\n",
            "Topic 5:\n",
            "worst bought thing purchasing bad regret ighly bsolutely fantastic recommend\n",
            "\n",
            "\n"
          ]
        }
      ],
      "source": [
        "import pandas as pd\n",
        "from sklearn.feature_extraction.text import CountVectorizer\n",
        "from sklearn.decomposition import LatentDirichletAllocation\n",
        "\n",
        "\n",
        "# Preprocess text (remove non-alphabetic characters and lowercasing)\n",
        "df['clean_text'] = df['text'].str.replace(r'[^a-z\\s]', '', regex=True).str.lower()\n",
        "\n",
        "# Vectorize the text\n",
        "vectorizer = CountVectorizer(stop_words='english')\n",
        "dtm = vectorizer.fit_transform(df['clean_text'])\n",
        "\n",
        "# Apply LDA\n",
        "lda = LatentDirichletAllocation(n_components=5, random_state=42)\n",
        "lda.fit(dtm)\n",
        "\n",
        "# Display top words for each topic\n",
        "for idx, topic in enumerate(lda.components_):\n",
        "    print(f\"Topic {idx + 1}:\")\n",
        "    print(\" \".join([vectorizer.get_feature_names_out()[i] for i in topic.argsort()[-10:]]))\n",
        "    print(\"\\n\")\n",
        "\n"
      ]
    },
    {
      "cell_type": "code",
      "execution_count": 10,
      "id": "ee1c05fa-06b8-49d3-8b80-c800413fe931",
      "metadata": {
        "colab": {
          "base_uri": "https://localhost:8080/"
        },
        "id": "ee1c05fa-06b8-49d3-8b80-c800413fe931",
        "outputId": "339dc708-8531-47f4-a786-85147c7c2e9b"
      },
      "outputs": [
        {
          "output_type": "stream",
          "name": "stdout",
          "text": [
            "Cluster 1:\n",
            "purchasing, great, ery, amazing, ts, regret, recently, thing, recommend, uper\n",
            "\n",
            "Cluster 2:\n",
            "product, recommend, disappointed, ts, quality, uper, ighly, errible, ot, regret\n",
            "\n",
            "Cluster 3:\n",
            "happy, love, bad, thing, recommend, recently, quality, regret, uper, ts\n",
            "\n",
            "                                          text sentiment\n",
            "0           I love this product! It's amazing!   Neutral\n",
            "1  This is the worst thing I have ever bought.  Negative\n",
            "2      Absolutely fantastic! Highly recommend.  Positive\n",
            "3      Not worth the money. Very disappointed.  Negative\n",
            "4            Best purchase I've made recently!  Negative\n"
          ]
        }
      ],
      "source": [
        "import pandas as pd\n",
        "from sklearn.feature_extraction.text import TfidfVectorizer\n",
        "from sklearn.cluster import KMeans\n",
        "import numpy as np\n",
        "\n",
        "\n",
        "df['text'] = df['text'].astype(str)\n",
        "\n",
        "# Step 2: Preprocess the text (you can skip this step if already preprocessed)\n",
        "from nltk.corpus import stopwords\n",
        "from nltk.tokenize import word_tokenize\n",
        "import string\n",
        "\n",
        "# Step 4: Train K-Means clustering model\n",
        "num_clusters = 3  # You can change the number of clusters as needed\n",
        "kmeans = KMeans(n_clusters=num_clusters, random_state=42)\n",
        "df['cluster'] = kmeans.fit_predict(X)\n",
        "\n",
        "# Step 5: Analyze the top terms for each cluster\n",
        "terms = vectorizer.get_feature_names_out()\n",
        "order_centroids = kmeans.cluster_centers_.argsort()[:, ::-1]\n",
        "\n",
        "# Print the top 10 terms for each cluster\n",
        "for i in range(num_clusters):\n",
        "    print(f\"Cluster {i + 1}:\")\n",
        "    print(\", \".join([terms[ind] for ind in order_centroids[i, :10]]))\n",
        "    print()\n",
        "\n",
        "# Step 6: Manually map clusters to sentiments\n",
        "# Based on the top terms, you can manually map the clusters to sentiments.\n",
        "# Example: You can map Cluster 0 -> Positive, Cluster 1 -> Negative, Cluster 2 -> Neutral, etc.\n",
        "df['sentiment'] = df['cluster'].map({\n",
        "    0: 'Positive',   # Example mapping based on top words\n",
        "    1: 'Negative',   # Example mapping based on top words\n",
        "    2: 'Neutral'     # Example mapping based on top words\n",
        "})\n",
        "\n",
        "# Display the dataframe with sentiment labels\n",
        "print(df[['text', 'sentiment']].head())\n",
        "\n"
      ]
    },
    {
      "cell_type": "code",
      "execution_count": 11,
      "id": "f56fb5a7-423f-4091-8597-799bfb975bf3",
      "metadata": {
        "colab": {
          "base_uri": "https://localhost:8080/"
        },
        "id": "f56fb5a7-423f-4091-8597-799bfb975bf3",
        "outputId": "771c874b-dd45-4228-f7b1-ced8c42a8587"
      },
      "outputs": [
        {
          "output_type": "stream",
          "name": "stdout",
          "text": [
            "                                          text predicted_sentiment\n",
            "0           I love this product! It's amazing!             Neutral\n",
            "1  This is the worst thing I have ever bought.            Negative\n",
            "2      Absolutely fantastic! Highly recommend.            Positive\n",
            "3      Not worth the money. Very disappointed.            Negative\n",
            "4            Best purchase I've made recently!            Negative\n"
          ]
        }
      ],
      "source": [
        "import pandas as pd\n",
        "from sklearn.feature_extraction.text import TfidfVectorizer\n",
        "from sklearn.cluster import KMeans\n",
        "import string\n",
        "from nltk.tokenize import word_tokenize\n",
        "from nltk.corpus import stopwords\n",
        "# Step 5: Predict the clusters for each tweet\n",
        "df['predicted_cluster'] = kmeans.predict(X)\n",
        "\n",
        "# Step 6: Map clusters to sentiments manually based on previous interpretation\n",
        "# You should have previously mapped clusters based on top words or other observations.\n",
        "# Example cluster mapping:\n",
        "sentiment_mapping = {\n",
        "    0: 'Positive',\n",
        "    1: 'Negative',\n",
        "    2: 'Neutral'\n",
        "}\n",
        "\n",
        "# Assign sentiment labels based on the predicted cluster\n",
        "df['predicted_sentiment'] = df['predicted_cluster'].map(sentiment_mapping)\n",
        "\n",
        "# Step 7: Display the results with sentiment labels\n",
        "print(df[['text', 'predicted_sentiment']].head())\n"
      ]
    },
    {
      "cell_type": "code",
      "execution_count": null,
      "id": "19a50313-fdfb-4fb2-86b3-a475a1f6d902",
      "metadata": {
        "id": "19a50313-fdfb-4fb2-86b3-a475a1f6d902"
      },
      "outputs": [],
      "source": []
    }
  ],
  "metadata": {
    "kernelspec": {
      "display_name": "Python [conda env:base] *",
      "language": "python",
      "name": "conda-base-py"
    },
    "language_info": {
      "codemirror_mode": {
        "name": "ipython",
        "version": 3
      },
      "file_extension": ".py",
      "mimetype": "text/x-python",
      "name": "python",
      "nbconvert_exporter": "python",
      "pygments_lexer": "ipython3",
      "version": "3.12.7"
    },
    "colab": {
      "provenance": [],
      "include_colab_link": true
    }
  },
  "nbformat": 4,
  "nbformat_minor": 5
}